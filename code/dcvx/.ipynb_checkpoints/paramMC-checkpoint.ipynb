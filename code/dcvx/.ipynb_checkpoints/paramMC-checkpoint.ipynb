{
 "cells": [
  {
   "cell_type": "markdown",
   "metadata": {},
   "source": [
    "# Notebook on parametric Markov Chain\n",
    "\n",
    "This research notebook attempts to catalouge my research into parametric Markov chains. \n",
    "\n",
    "## Questions of interest\n",
    "\n",
    "- Given a Markov chain and some constraints on the transition probability $M$ as well as the stationary distribution $p$, under what conditions are the set of admissible ($M,p$) convex?\n",
    "- Given a function $f$ defined over the finite state space, compute a lower and upper bound on $\\mathbb{E}[f(x)]$ where $x$ is the finite-valued random variable describing the eventual state of the Markov chain?\n",
    "\n",
    "\n",
    "## Feasibility problem\n",
    "\n",
    "Let the number of states of the Markov chain be $n$. We denote the probability simplex (a constrained hyperplane) by $\\mathcal{S}=\\{q\\in \\mathbb{R}^n: 1^\\top q = 1, q\\succeq 0\\}$.\n",
    "\n",
    "\\begin{align}\n",
    "\\begin{array}{rl}\n",
    "    \\underset{M,p}{\\text{minimize}} &\\quad 0\\\\\n",
    "    \\text{subject to} &\\quad p\\in \\mathcal{P}\\\\\n",
    "                      &\\quad M\\in \\mathcal{M}\\\\\n",
    "                      &\\quad (M - I)p = 0\n",
    "\\end{array}\n",
    "\\end{align}\n",
    "where polytopes $\\mathcal{P}\\subseteq \\mathcal{S}$ and $\\mathcal{M}\\subseteq \\mathcal{S}^n$ can impose additional linear constraints on $p$ and $M$ (prior information).\n",
    "\n",
    "See http://localhost:8888/notebooks/paramMC.ipynb#FAILED:-An-approach-using-$\\sup_{y\\in-\\mathcal{A}}-f(x,y)$-is-convex-for-convex-$f$"
   ]
  },
  {
   "cell_type": "code",
   "execution_count": 1,
   "metadata": {},
   "outputs": [
    {
     "ename": "ModuleNotFoundError",
     "evalue": "No module named 'cvxpy'",
     "output_type": "error",
     "traceback": [
      "\u001b[0;31m---------------------------------------------------------------------------\u001b[0m",
      "\u001b[0;31mModuleNotFoundError\u001b[0m                       Traceback (most recent call last)",
      "\u001b[0;32m<ipython-input-1-52c404bc9d11>\u001b[0m in \u001b[0;36m<module>\u001b[0;34m\u001b[0m\n\u001b[1;32m      1\u001b[0m \u001b[0;32mimport\u001b[0m \u001b[0mnumpy\u001b[0m \u001b[0;32mas\u001b[0m \u001b[0mnp\u001b[0m\u001b[0;34m\u001b[0m\u001b[0;34m\u001b[0m\u001b[0m\n\u001b[0;32m----> 2\u001b[0;31m \u001b[0;32mimport\u001b[0m \u001b[0mcvxpy\u001b[0m \u001b[0;32mas\u001b[0m \u001b[0mcvx\u001b[0m\u001b[0;34m\u001b[0m\u001b[0;34m\u001b[0m\u001b[0m\n\u001b[0m",
      "\u001b[0;31mModuleNotFoundError\u001b[0m: No module named 'cvxpy'"
     ]
    }
   ],
   "source": [
    "import numpy as np\n",
    "import cvxpy as cvx"
   ]
  },
  {
   "cell_type": "code",
   "execution_count": null,
   "metadata": {},
   "outputs": [],
   "source": [
    "p= 0.1;\n",
    "q= 0.2;\n",
    "r= 0.3;\n",
    "M = np.vstack([np.array([0,p,0,0,1-p]), \n",
    "               np.array([0,0,1-q,0,q]),\n",
    "               np.array([0,0,0,r,1-r]),\n",
    "               np.array([0,0,0,1,0]),\n",
    "               np.array([0,0,0,0,1])]);\n",
    "eyeMinusM = np.eye(5) - M;\n",
    "print(eyeMinusM)"
   ]
  },
  {
   "cell_type": "markdown",
   "metadata": {},
   "source": [
    "## Testing the convexity hypothesis"
   ]
  },
  {
   "cell_type": "code",
   "execution_count": null,
   "metadata": {},
   "outputs": [],
   "source": [
    "pstep = 0.1;\n",
    "qstep = pstep;\n",
    "rstep = pstep;\n",
    "pvec = np.arange(0,1+pstep,pstep)\n",
    "qvec = np.arange(0,1+qstep,qstep)\n",
    "rvec = np.arange(0,1+rstep,rstep)\n",
    "\n",
    "def bool_val = is_feasible(M):\n",
    "    p = cvx.Variable(5)\n",
    "    obj = p[3]; #np.array([0,0,0,1,0]).T@p;\n",
    "    \n",
    "    prob = cvx.prob(cvx.Minimize(obj), \n",
    "                    np.ones(5)@p == 1,\n",
    "                    p >= 0,\n",
    "                    M*p == p)\n",
    "    if prob.status == 'optimal':\n",
    "        bool_val = 1\n",
    "    else:\n",
    "        disp(prob.status)\n",
    "        bool_val = 0\n",
    "\n",
    "for indx_p in range(len(pvec)):\n",
    "    for indx_q in range(len(qvec)):\n",
    "        for indx_r in range(len(rvec)):\n",
    "            M = np.vstack([np.array([0,p,0,0,1-p]), \n",
    "                           np.array([0,0,1-q,0,q]),\n",
    "                           np.array([0,0,0,r,1-r]),\n",
    "                           np.array([0,0,0,1,0]),\n",
    "                           np.array([0,0,0,0,1])]);\n",
    "            val(indx_p, indx_q, indx_r) = is_feasible(M)\n",
    "            \n"
   ]
  },
  {
   "cell_type": "markdown",
   "metadata": {},
   "source": [
    "## Absorption\n",
    "\n",
    "Under absorption, we have to analyze only the transient to transient behaviour."
   ]
  },
  {
   "cell_type": "code",
   "execution_count": null,
   "metadata": {},
   "outputs": [],
   "source": [
    "Q = M[0:3,0:3];\n",
    "print(M)\n",
    "print(Q)\n",
    "print(np.eye(3) - Q)\n",
    "print(np.linalg.inv(np.eye(3)-Q))"
   ]
  },
  {
   "cell_type": "markdown",
   "metadata": {},
   "source": [
    "Rows of $R={(I-Q)}^{-1}$ indicate that $R_{ij}$ is the expected number of times visit state $j$ when starting from $i$. The initial state is counted when $i=j$.\n",
    "https://www.dartmouth.edu/~chance/teaching_aids/books_articles/probability_book/Chapter11.pdf\n",
    "\n",
    "\n",
    "Can I use this to reason about $M$?"
   ]
  },
  {
   "cell_type": "markdown",
   "metadata": {},
   "source": [
    "## Eigenvalue decomposition"
   ]
  },
  {
   "cell_type": "code",
   "execution_count": null,
   "metadata": {},
   "outputs": [],
   "source": [
    "# Eigenvalue decomposition\n",
    "[eigval, eigvec] = np.linalg.eig(M)\n",
    "# Eigenvectors\n",
    "print('Eigenvalues')\n",
    "print(eigval[:,None])\n",
    "print('(Trivial) Eigenvectors (read rowwise)')\n",
    "print(eigvec[:,0:3].T)\n",
    "print('(Non-trivial) Eigenvectors (read colwise)')\n",
    "for indx in range(3,5):\n",
    "    v = eigvec[:,indx]\n",
    "    print(v[:,None])\n",
    "# Testing a particular eigenvector    \n",
    "print(M@eigvec[:,3])"
   ]
  },
  {
   "cell_type": "markdown",
   "metadata": {},
   "source": [
    "Having multiple limiting stationary distributions is a consequence of reducibility in the Markov chain. There are some states from which going to another state in finite time is not possible.\n",
    "\n",
    "**Ergodic**: There is a number N such that any state can be reached from any other state in any number of steps greater than or equal to a number N with a probability greater than zero.\n",
    "\n",
    "This is closely related to irreducibility and aperiodicity."
   ]
  },
  {
   "cell_type": "markdown",
   "metadata": {},
   "source": [
    "### FAILED: An approach using $\\sup_{y\\in \\mathcal{A}} f(x,y)$ is convex for convex $f$\n",
    "\n",
    "\\begin{align}\n",
    "\\begin{array}{rl}\n",
    "    \\underset{M,p}{\\text{minimize}} &\\quad {\\Vert (M - I)p \\Vert}_2\\\\\n",
    "    \\text{subject to} &\\quad p\\in \\mathcal{P}\\\\\n",
    "                      &\\quad M\\in \\mathcal{M}\\\\\n",
    "\\end{array}\n",
    "\\end{align}\n",
    "\n",
    "Assume we had an $f$ that is convex over $M$ or $p$ when the other is fixed and $f(M,p)$ attains its upper bound only when $(M-I)p=0$. Then, the above optimization problem is equivalent to the below\n",
    "\\begin{align}\n",
    "\\begin{array}{rl}\n",
    "    \\underset{M,p}{\\text{maximize}} &\\quad f(M,p)\\\\\n",
    "    \\text{subject to} &\\quad p\\in \\mathcal{P}\\\\\n",
    "                      &\\quad M\\in \\mathcal{M}\\\\\n",
    "\\end{array}\n",
    "\\end{align}\n",
    "However, an upper bounded convex function is linear."
   ]
  }
 ],
 "metadata": {
  "kernelspec": {
   "display_name": "Python 3",
   "language": "python",
   "name": "python3"
  },
  "language_info": {
   "codemirror_mode": {
    "name": "ipython",
    "version": 3
   },
   "file_extension": ".py",
   "mimetype": "text/x-python",
   "name": "python",
   "nbconvert_exporter": "python",
   "pygments_lexer": "ipython3",
   "version": "3.7.1"
  }
 },
 "nbformat": 4,
 "nbformat_minor": 2
}
